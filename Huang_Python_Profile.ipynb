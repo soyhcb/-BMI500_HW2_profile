{
 "cells": [
  {
   "cell_type": "code",
   "execution_count": 1,
   "id": "ecb65fb5-5417-4552-a989-f4bfe4f0cd20",
   "metadata": {},
   "outputs": [
    {
     "name": "stdout",
     "output_type": "stream",
     "text": [
      "         214 function calls (207 primitive calls) in 0.000 seconds\n",
      "\n",
      "   Ordered by: standard name\n",
      "\n",
      "   ncalls  tottime  percall  cumtime  percall filename:lineno(function)\n",
      "        1    0.000    0.000    0.000    0.000 <string>:1(<module>)\n",
      "        2    0.000    0.000    0.000    0.000 enum.py:334(__call__)\n",
      "        2    0.000    0.000    0.000    0.000 enum.py:646(__new__)\n",
      "        1    0.000    0.000    0.000    0.000 enum.py:948(__and__)\n",
      "        1    0.000    0.000    0.000    0.000 re.py:250(compile)\n",
      "        1    0.000    0.000    0.000    0.000 re.py:289(_compile)\n",
      "        1    0.000    0.000    0.000    0.000 sre_compile.py:249(_compile_charset)\n",
      "        1    0.000    0.000    0.000    0.000 sre_compile.py:276(_optimize_charset)\n",
      "        2    0.000    0.000    0.000    0.000 sre_compile.py:453(_get_iscased)\n",
      "        1    0.000    0.000    0.000    0.000 sre_compile.py:461(_get_literal_prefix)\n",
      "        1    0.000    0.000    0.000    0.000 sre_compile.py:492(_get_charset_prefix)\n",
      "        1    0.000    0.000    0.000    0.000 sre_compile.py:536(_compile_info)\n",
      "        2    0.000    0.000    0.000    0.000 sre_compile.py:595(isstring)\n",
      "        1    0.000    0.000    0.000    0.000 sre_compile.py:598(_code)\n",
      "      3/1    0.000    0.000    0.000    0.000 sre_compile.py:71(_compile)\n",
      "        1    0.000    0.000    0.000    0.000 sre_compile.py:759(compile)\n",
      "        3    0.000    0.000    0.000    0.000 sre_parse.py:111(__init__)\n",
      "        7    0.000    0.000    0.000    0.000 sre_parse.py:160(__len__)\n",
      "       18    0.000    0.000    0.000    0.000 sre_parse.py:164(__getitem__)\n",
      "        7    0.000    0.000    0.000    0.000 sre_parse.py:172(append)\n",
      "      3/1    0.000    0.000    0.000    0.000 sre_parse.py:174(getwidth)\n",
      "        1    0.000    0.000    0.000    0.000 sre_parse.py:224(__init__)\n",
      "        8    0.000    0.000    0.000    0.000 sre_parse.py:233(__next)\n",
      "        2    0.000    0.000    0.000    0.000 sre_parse.py:249(match)\n",
      "        6    0.000    0.000    0.000    0.000 sre_parse.py:254(get)\n",
      "        1    0.000    0.000    0.000    0.000 sre_parse.py:286(tell)\n",
      "        1    0.000    0.000    0.000    0.000 sre_parse.py:435(_parse_sub)\n",
      "        2    0.000    0.000    0.000    0.000 sre_parse.py:493(_parse)\n",
      "        1    0.000    0.000    0.000    0.000 sre_parse.py:76(__init__)\n",
      "        2    0.000    0.000    0.000    0.000 sre_parse.py:81(groups)\n",
      "        1    0.000    0.000    0.000    0.000 sre_parse.py:921(fix_flags)\n",
      "        1    0.000    0.000    0.000    0.000 sre_parse.py:937(parse)\n",
      "        1    0.000    0.000    0.000    0.000 {built-in method _sre.compile}\n",
      "        1    0.000    0.000    0.000    0.000 {built-in method builtins.exec}\n",
      "       25    0.000    0.000    0.000    0.000 {built-in method builtins.isinstance}\n",
      "    29/26    0.000    0.000    0.000    0.000 {built-in method builtins.len}\n",
      "        2    0.000    0.000    0.000    0.000 {built-in method builtins.max}\n",
      "        9    0.000    0.000    0.000    0.000 {built-in method builtins.min}\n",
      "        6    0.000    0.000    0.000    0.000 {built-in method builtins.ord}\n",
      "       48    0.000    0.000    0.000    0.000 {method 'append' of 'list' objects}\n",
      "        1    0.000    0.000    0.000    0.000 {method 'disable' of '_lsprof.Profiler' objects}\n",
      "        5    0.000    0.000    0.000    0.000 {method 'find' of 'bytearray' objects}\n",
      "        1    0.000    0.000    0.000    0.000 {method 'items' of 'dict' objects}\n",
      "\n",
      "\n"
     ]
    }
   ],
   "source": [
    "import cProfile\n",
    "import re\n",
    "cProfile.run('re.compile(\"foo|bar\")')"
   ]
  },
  {
   "cell_type": "code",
   "execution_count": 2,
   "id": "2bf21919-0151-4bba-a849-1d54659555f7",
   "metadata": {},
   "outputs": [
    {
     "name": "stdout",
     "output_type": "stream",
     "text": [
      "         6 function calls in 0.004 seconds\n",
      "\n",
      "   Ordered by: standard name\n",
      "\n",
      "   ncalls  tottime  percall  cumtime  percall filename:lineno(function)\n",
      "        1    0.000    0.000    0.004    0.004 <ipython-input-2-8dd56089bb0c>:1(leibniz_c)\n",
      "        1    0.004    0.004    0.004    0.004 <ipython-input-2-8dd56089bb0c>:2(<listcomp>)\n",
      "        1    0.000    0.000    0.004    0.004 <string>:1(<module>)\n",
      "        1    0.000    0.000    0.004    0.004 {built-in method builtins.exec}\n",
      "        1    0.000    0.000    0.000    0.000 {built-in method builtins.sum}\n",
      "        1    0.000    0.000    0.000    0.000 {method 'disable' of '_lsprof.Profiler' objects}\n",
      "\n",
      "\n"
     ]
    }
   ],
   "source": [
    "def leibniz_c(n):\n",
    "    terms = [(-1)**i/(2*i+1) for i in range(n)]\n",
    "    return sum(terms)\n",
    "cProfile.run('4*leibniz_c(10000)')"
   ]
  },
  {
   "cell_type": "code",
   "execution_count": 3,
   "id": "f88cb0d8-e81f-43f8-b97d-5803c380707c",
   "metadata": {},
   "outputs": [],
   "source": [
    "!python -m cProfile -o output.pstats example.py"
   ]
  },
  {
   "cell_type": "code",
   "execution_count": 5,
   "id": "722e9147-1c6f-47f4-9b14-bee46fbbc5e9",
   "metadata": {},
   "outputs": [],
   "source": [
    "!gprof2dot -f pstats output.pstats | dot -Tpng -o output.png"
   ]
  },
  {
   "cell_type": "markdown",
   "id": "0aa18cb4-df8b-4fd4-8729-15055bdae589",
   "metadata": {},
   "source": [
    "<img src=\"./output.png\">"
   ]
  },
  {
   "cell_type": "code",
   "execution_count": 8,
   "id": "2d407e57-e58f-4d4d-b681-16b015eba4b3",
   "metadata": {},
   "outputs": [
    {
     "name": "stdout",
     "output_type": "stream",
     "text": [
      "^C\n"
     ]
    }
   ],
   "source": [
    "!snakeviz output.pstats"
   ]
  },
  {
   "cell_type": "markdown",
   "id": "ae35b54b-67c1-4a1e-bcc4-0bf29a5356b7",
   "metadata": {},
   "source": [
    "<img src=\"./figs/pythonprofile_snake.PNG\">"
   ]
  },
  {
   "cell_type": "code",
   "execution_count": 7,
   "id": "567ef1fe-dc28-491a-b497-6f4c9da4e1e8",
   "metadata": {},
   "outputs": [
    {
     "name": "stdout",
     "output_type": "stream",
     "text": [
      "^C\n"
     ]
    }
   ],
   "source": [
    "!tuna output.pstats"
   ]
  },
  {
   "cell_type": "markdown",
   "id": "8cdad931-e2cd-437f-8072-031b097894c0",
   "metadata": {},
   "source": [
    "<img src=\"./figs/pythonprofile_tuna.PNG\">"
   ]
  },
  {
   "cell_type": "code",
   "execution_count": null,
   "id": "d557458c-3f46-4fd1-9726-3521e45a9ed0",
   "metadata": {},
   "outputs": [],
   "source": []
  }
 ],
 "metadata": {
  "kernelspec": {
   "display_name": "Python 3",
   "language": "python",
   "name": "python3"
  },
  "language_info": {
   "codemirror_mode": {
    "name": "ipython",
    "version": 3
   },
   "file_extension": ".py",
   "mimetype": "text/x-python",
   "name": "python",
   "nbconvert_exporter": "python",
   "pygments_lexer": "ipython3",
   "version": "3.9.4"
  }
 },
 "nbformat": 4,
 "nbformat_minor": 5
}
